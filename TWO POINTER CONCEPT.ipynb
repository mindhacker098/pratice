{
 "cells": [
  {
   "cell_type": "code",
   "execution_count": 9,
   "metadata": {},
   "outputs": [],
   "source": [
    "#reversing a string\n",
    "def reversingstring(string):\n",
    "    left=0\n",
    "    right=len(string)-1\n",
    "    while left < right:\n",
    "        string[left],string[right]=string[right],string[left]\n",
    "        left+=1\n",
    "        right-=1\n",
    "    return string"
   ]
  },
  {
   "cell_type": "code",
   "execution_count": 10,
   "metadata": {},
   "outputs": [
    {
     "data": {
      "text/plain": [
       "['o', 'l', 'l', 'e', 'h']"
      ]
     },
     "execution_count": 10,
     "metadata": {},
     "output_type": "execute_result"
    }
   ],
   "source": [
    "s=['h','e','l','l','o']\n",
    "reversingstring(s)"
   ]
  },
  {
   "cell_type": "code",
   "execution_count": 5,
   "metadata": {},
   "outputs": [],
   "source": [
    "#Valid Palindrome\n",
    "def ispalindrome(string):\n",
    "    left=0\n",
    "    right=len(string)-1\n",
    "    while left < right:\n",
    "        if not string[left].isalnum():\n",
    "            left+=1\n",
    "        elif not string[right].isalnum():\n",
    "            right-=1\n",
    "        else:\n",
    "            if string[left].lower()!=string[right].lower():\n",
    "                return False\n",
    "            left+=1\n",
    "            right-=1\n",
    "    return True"
   ]
  },
  {
   "cell_type": "code",
   "execution_count": 6,
   "metadata": {},
   "outputs": [
    {
     "data": {
      "text/plain": [
       "True"
      ]
     },
     "execution_count": 6,
     "metadata": {},
     "output_type": "execute_result"
    }
   ],
   "source": [
    "s=\"A man, a plan, a canal: Panama\"\n",
    "ispalindrome(s)"
   ]
  },
  {
   "cell_type": "code",
   "execution_count": 4,
   "metadata": {},
   "outputs": [],
   "source": [
    "#squares of a sorted array\n",
    "def sortedSquares(nums):\n",
    "    left = 0\n",
    "    right = len(nums) - 1\n",
    "    result = [0] * len(nums)\n",
    "    position = len(nums) - 1  # Start filling the result from the last index\n",
    "    \n",
    "    # Use while loop to compare elements from both ends\n",
    "    while left <= right:\n",
    "        if abs(nums[left]) > abs(nums[right]):\n",
    "            result[position] = nums[left] ** 2\n",
    "            left += 1\n",
    "        else:\n",
    "            result[position] = nums[right] ** 2\n",
    "            right -= 1\n",
    "        position -= 1  # Move the position to fill the next element\n",
    "    return result"
   ]
  },
  {
   "cell_type": "code",
   "execution_count": 3,
   "metadata": {},
   "outputs": [
    {
     "data": {
      "text/plain": [
       "[4, 9, 16, 49, 121]"
      ]
     },
     "execution_count": 3,
     "metadata": {},
     "output_type": "execute_result"
    }
   ],
   "source": [
    "a=[-7,-3,2,4,11]\n",
    "sortedSquares(a)"
   ]
  },
  {
   "cell_type": "code",
   "execution_count": 39,
   "metadata": {},
   "outputs": [],
   "source": [
    "#twosum-input array is sorted\n",
    "def twoSum(numbers, target):\n",
    "    left, right = 0, len(numbers) - 1\n",
    "    \n",
    "    while left < right:\n",
    "        current_sum = numbers[left] + numbers[right]\n",
    "        \n",
    "        # Check if the sum matches the target\n",
    "        if current_sum == target:\n",
    "            return [left + 1, right + 1]  # Return 1-based indices\n",
    "        \n",
    "        # If the sum is less than the target, move the left pointer to the right\n",
    "        elif current_sum < target:\n",
    "            left += 1\n",
    "        \n",
    "        # If the sum is greater than the target, move the right pointer to the left\n",
    "        else:\n",
    "            right -= 1\n",
    "    \n",
    "    return []  # In case there's no solution, though problem guarantees one\n"
   ]
  },
  {
   "cell_type": "code",
   "execution_count": 41,
   "metadata": {},
   "outputs": [
    {
     "name": "stdout",
     "output_type": "stream",
     "text": [
      "[1, 4]\n"
     ]
    }
   ],
   "source": [
    "numbers=[2,5,6,7,11,15]\n",
    "target = 9\n",
    "print(twoSum(numbers, target))  # Output: [1, 2]\n"
   ]
  },
  {
   "cell_type": "code",
   "execution_count": 42,
   "metadata": {},
   "outputs": [],
   "source": [
    "#3sum\n",
    "def threeSum(nums):\n",
    "    # Sort the array in-place\n",
    "    nums.sort()\n",
    "    result = []\n",
    "    \n",
    "    # Iterate through the array\n",
    "    for i in range(len(nums) - 2):\n",
    "        # Early exit if the first element is greater than 0 (no valid triplets possible)\n",
    "        if nums[i] > 0:\n",
    "            break\n",
    "        \n",
    "        # Skip duplicates for the first element\n",
    "        if i > 0 and nums[i] == nums[i - 1]:\n",
    "            continue\n",
    "        \n",
    "        # Two-pointer technique\n",
    "        left, right = i + 1, len(nums) - 1\n",
    "        while left < right:\n",
    "            current_sum = nums[i] + nums[left] + nums[right]\n",
    "            \n",
    "            if current_sum == 0:\n",
    "                # Valid triplet found\n",
    "                result.append([nums[i], nums[left], nums[right]])\n",
    "                \n",
    "                # Skip duplicates for the second element\n",
    "                while left < right and nums[left] == nums[left + 1]:\n",
    "                    left += 1\n",
    "                \n",
    "                # Skip duplicates for the third element\n",
    "                while left < right and nums[right] == nums[right - 1]:\n",
    "                    right -= 1\n",
    "                \n",
    "                # Move both pointers after processing\n",
    "                left += 1\n",
    "                right -= 1\n",
    "            \n",
    "            # If the sum is too small, move the left pointer to increase the sum\n",
    "            elif current_sum < 0:\n",
    "                left += 1\n",
    "            \n",
    "            # If the sum is too large, move the right pointer to decrease the sum\n",
    "            else:\n",
    "                right -= 1\n",
    "    \n",
    "    return result\n"
   ]
  },
  {
   "cell_type": "code",
   "execution_count": 43,
   "metadata": {},
   "outputs": [
    {
     "name": "stdout",
     "output_type": "stream",
     "text": [
      "[7, 12, 23, 34, 42, 43, 78, 98]\n"
     ]
    }
   ],
   "source": [
    "a=[23,43,12,7,34,42,78,98]\n",
    "a.sort()\n",
    "print(a)"
   ]
  },
  {
   "cell_type": "code",
   "execution_count": 36,
   "metadata": {},
   "outputs": [],
   "source": [
    "#container with most water\n",
    "def maxarea(height):\n",
    "    left=0\n",
    "    right=len(height)-1\n",
    "    max_area=0\n",
    "    while left<right:\n",
    "        area=min(height[left],height[right])*(right-left)\n",
    "        max_area=max(max_area,area)\n",
    "        if height[left]<height[right]:\n",
    "            left+=1\n",
    "        else:\n",
    "            right-=1\n",
    "    return max_area"
   ]
  },
  {
   "cell_type": "code",
   "execution_count": 37,
   "metadata": {},
   "outputs": [
    {
     "data": {
      "text/plain": [
       "49"
      ]
     },
     "execution_count": 37,
     "metadata": {},
     "output_type": "execute_result"
    }
   ],
   "source": [
    "height=[1,8,6,2,5,4,8,3,7]\n",
    "maxarea(height)"
   ]
  },
  {
   "cell_type": "code",
   "execution_count": 40,
   "metadata": {},
   "outputs": [],
   "source": [
    "#water trapped\n",
    "def trap(height):\n",
    "    left=0\n",
    "    right=len(height)-1\n",
    "    left_max,right_max=height[left],height[right]\n",
    "    water_trapped=0\n",
    "    while left<right:\n",
    "        if left_max<right_max:\n",
    "            left+=1\n",
    "            left_max=max(left_max,height[left])\n",
    "            water_trapped+=left_max-height[left]\n",
    "        else:\n",
    "            right-=1\n",
    "            right_max=max(right_max,height[right])\n",
    "            water_trapped+=right_max-height[right]\n",
    "    return water_trapped"
   ]
  },
  {
   "cell_type": "code",
   "execution_count": 41,
   "metadata": {},
   "outputs": [
    {
     "data": {
      "text/plain": [
       "6"
      ]
     },
     "execution_count": 41,
     "metadata": {},
     "output_type": "execute_result"
    }
   ],
   "source": [
    "height=[0,1,0,2,1,0,1,3,2,1,2,1]\n",
    "trap(height)"
   ]
  }
 ],
 "metadata": {
  "kernelspec": {
   "display_name": "Python 3",
   "language": "python",
   "name": "python3"
  },
  "language_info": {
   "codemirror_mode": {
    "name": "ipython",
    "version": 3
   },
   "file_extension": ".py",
   "mimetype": "text/x-python",
   "name": "python",
   "nbconvert_exporter": "python",
   "pygments_lexer": "ipython3",
   "version": "3.12.3"
  }
 },
 "nbformat": 4,
 "nbformat_minor": 2
}
